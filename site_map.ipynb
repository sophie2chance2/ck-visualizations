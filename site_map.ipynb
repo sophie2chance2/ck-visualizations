{
 "cells": [
  {
   "cell_type": "code",
   "execution_count": 1,
   "metadata": {},
   "outputs": [],
   "source": [
    "import os\n",
    "from dotenv import load_dotenv\n",
    "load_dotenv()\n",
    "\n",
    "import pandas as pd\n",
    "\n",
    "import gmaps\n",
    "import gmaps.geojson_geometries\n",
    "from geographiclib.geodesic import Geodesic\n",
    "import googlemaps\n",
    "\n",
    "import hubspot"
   ]
  },
  {
   "cell_type": "code",
   "execution_count": 2,
   "metadata": {},
   "outputs": [],
   "source": [
    "gmaps.configure(api_key=os.environ[\"GMAPS_API_KEY\"])\n",
    "client = hubspot.Client.create(access_token=os.environ[\"HUBSPOT_API_KEY\"])\n",
    "geocode = googlemaps.Client(key=os.environ[\"GEOCODE_API_KEY\"])"
   ]
  },
  {
   "cell_type": "code",
   "execution_count": 3,
   "metadata": {},
   "outputs": [],
   "source": [
    "def pull_properties(hubspot_raw_df):\n",
    "    # Extract all unique property keys from 'properties' dictionary\n",
    "    property_keys = set().union(*hubspot_raw_df['properties'].apply(lambda x: x.keys()))\n",
    "\n",
    "    # Create new columns for each property key\n",
    "    for key in property_keys:\n",
    "        hubspot_raw_df[key] = ''\n",
    "\n",
    "    # Extract values for each property key and update the corresponding cell in the dataframe\n",
    "    for i, row in hubspot_raw_df.iterrows():\n",
    "        for key, value in row['properties'].items():\n",
    "            if value is None:\n",
    "                value = ''  # replace None values with empty strings\n",
    "            hubspot_raw_df.at[i, key] = value\n",
    "\n",
    "    # Drop 'properties' column and return the updated dataframe\n",
    "    return hubspot_raw_df.drop('properties', axis=1)"
   ]
  },
  {
   "cell_type": "code",
   "execution_count": 4,
   "metadata": {},
   "outputs": [
    {
     "name": "stdout",
     "output_type": "stream",
     "text": [
      "Companies included: 13917\n"
     ]
    }
   ],
   "source": [
    "### HUBSPOT TABLE ###\n",
    "\n",
    "company_list = []\n",
    "has_more = True\n",
    "after_value = 0\n",
    "while has_more:\n",
    "    api_response = client.crm.companies.basic_api.get_page(limit=100, after = after_value, properties=[\"name\", \"send_to_cs\", \"record_type\", \"address\", \"city\", \"full_address\"], archived=False).to_dict()\n",
    "    company_list.extend(api_response['results'])\n",
    "    try:\n",
    "        after_value = api_response['paging']['next']['after']\n",
    "    except:\n",
    "        has_more = False\n",
    "print('Companies included: ' + str(len(company_list)))\n",
    "company_ids = (pd.DataFrame(company_list)['id'])\n",
    "company_list_df = pd.DataFrame(company_list)\n",
    "\n",
    "hubspot_clients = pull_properties(company_list_df).query('send_to_cs == \"true\"').rename({'id':'hubspotID'}, axis=1)\n",
    "hubspot_clients = hubspot_clients.reset_index(drop=True)"
   ]
  },
  {
   "cell_type": "code",
   "execution_count": 5,
   "metadata": {},
   "outputs": [
    {
     "data": {
      "text/plain": [
       "[{'address_components': [{'long_name': 'Suite 103',\n",
       "    'short_name': 'Suite 103',\n",
       "    'types': ['subpremise']},\n",
       "   {'long_name': '500', 'short_name': '500', 'types': ['street_number']},\n",
       "   {'long_name': 'Carson Plaza Drive',\n",
       "    'short_name': 'Carson Plaza Dr',\n",
       "    'types': ['route']},\n",
       "   {'long_name': 'Carson',\n",
       "    'short_name': 'Carson',\n",
       "    'types': ['locality', 'political']},\n",
       "   {'long_name': 'Los Angeles County',\n",
       "    'short_name': 'Los Angeles County',\n",
       "    'types': ['administrative_area_level_2', 'political']},\n",
       "   {'long_name': 'California',\n",
       "    'short_name': 'CA',\n",
       "    'types': ['administrative_area_level_1', 'political']},\n",
       "   {'long_name': 'United States',\n",
       "    'short_name': 'US',\n",
       "    'types': ['country', 'political']},\n",
       "   {'long_name': '90746', 'short_name': '90746', 'types': ['postal_code']}],\n",
       "  'formatted_address': '500 Carson Plaza Dr Suite 103, Carson, CA 90746, USA',\n",
       "  'geometry': {'location': {'lat': 33.8447059, 'lng': -118.2659098},\n",
       "   'location_type': 'ROOFTOP',\n",
       "   'viewport': {'northeast': {'lat': 33.84620698029151,\n",
       "     'lng': -118.2643405697085},\n",
       "    'southwest': {'lat': 33.84350901970851, 'lng': -118.2670385302915}}},\n",
       "  'place_id': 'ChIJq6rq4Do13YART36jaFBytnk',\n",
       "  'types': ['subpremise']}]"
      ]
     },
     "execution_count": 5,
     "metadata": {},
     "output_type": "execute_result"
    }
   ],
   "source": [
    "geocode.geocode(hubspot_clients['full_address'][0])"
   ]
  },
  {
   "cell_type": "code",
   "execution_count": 6,
   "metadata": {},
   "outputs": [],
   "source": [
    "lat_lng = geocode.geocode(hubspot_clients['full_address'][0])[0]['geometry']['location']"
   ]
  },
  {
   "cell_type": "code",
   "execution_count": 15,
   "metadata": {},
   "outputs": [
    {
     "data": {
      "application/vnd.jupyter.widget-view+json": {
       "model_id": "fd326836d5a545f5b20c386b92715325",
       "version_major": 2,
       "version_minor": 0
      },
      "text/plain": [
       "Figure(layout=FigureLayout(height='420px'))"
      ]
     },
     "execution_count": 15,
     "metadata": {},
     "output_type": "execute_result"
    }
   ],
   "source": [
    "location = (33.8447059, -118.2659098) #lat_lng.values()\n",
    "fig = gmaps.figure(center=location, zoom_level=11)\n",
    "fig"
   ]
  },
  {
   "cell_type": "code",
   "execution_count": null,
   "metadata": {},
   "outputs": [],
   "source": []
  }
 ],
 "metadata": {
  "kernelspec": {
   "display_name": "vis_venv",
   "language": "python",
   "name": "python3"
  },
  "language_info": {
   "codemirror_mode": {
    "name": "ipython",
    "version": 3
   },
   "file_extension": ".py",
   "mimetype": "text/x-python",
   "name": "python",
   "nbconvert_exporter": "python",
   "pygments_lexer": "ipython3",
   "version": "3.10.9"
  }
 },
 "nbformat": 4,
 "nbformat_minor": 2
}
